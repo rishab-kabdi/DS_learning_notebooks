{
 "cells": [
  {
   "cell_type": "code",
   "execution_count": 3,
   "metadata": {},
   "outputs": [
    {
     "ename": "SyntaxError",
     "evalue": "invalid syntax (<ipython-input-3-b6801f95cdd8>, line 26)",
     "output_type": "error",
     "traceback": [
      "\u001b[1;36m  File \u001b[1;32m\"<ipython-input-3-b6801f95cdd8>\"\u001b[1;36m, line \u001b[1;32m26\u001b[0m\n\u001b[1;33m    if (x-1 not in posn and x+1 not in):\u001b[0m\n\u001b[1;37m                                      ^\u001b[0m\n\u001b[1;31mSyntaxError\u001b[0m\u001b[1;31m:\u001b[0m invalid syntax\n"
     ]
    }
   ],
   "source": [
    "def dup_removal(list):\n",
    "    res = []\n",
    "    for i in list:\n",
    "        if i not in res:\n",
    "            res.append(i)\n",
    "        list=res\n",
    "    return list\n",
    "M,L =input(\"Enter Values of M and L: \").split()\n",
    "#l[]=input(\"Enter positions of plates which are already colored: \").split()\n",
    "M=int(M)\n",
    "L=int(L)\n",
    "posn = list(map(int, input(\"\\nEnter the positions : \").strip().split()))[:L]\n",
    "print(posn)\n",
    "type(posn)\n",
    "m=list(range(1,M+1))\n",
    "print(m)\n",
    "independent=[]\n",
    "for x in m:\n",
    "    for y in posn:\n",
    "        if x==y+1 or x==y-1 :\n",
    "            independent.append(x)\n",
    "print(dup_removal(independent))\n",
    "dependent=[]\n",
    "for x in independent:\n",
    "    if x-1!=0:\n",
    "        if (x-1 not in posn and x+1 not in):\n",
    "            dependent.append(x-1)\n",
    "    if x+1!=M+1:\n",
    "        if x+1 not in posn and x+1 not in:\n",
    "            dependent.append(x+1)\n",
    "print(dup_removal(dependent))\n"
   ]
  },
  {
   "cell_type": "code",
   "execution_count": null,
   "metadata": {},
   "outputs": [],
   "source": []
  },
  {
   "cell_type": "code",
   "execution_count": null,
   "metadata": {},
   "outputs": [],
   "source": []
  }
 ],
 "metadata": {
  "kernelspec": {
   "display_name": "Python 3",
   "language": "python",
   "name": "python3"
  },
  "language_info": {
   "codemirror_mode": {
    "name": "ipython",
    "version": 3
   },
   "file_extension": ".py",
   "mimetype": "text/x-python",
   "name": "python",
   "nbconvert_exporter": "python",
   "pygments_lexer": "ipython3",
   "version": "3.8.2"
  }
 },
 "nbformat": 4,
 "nbformat_minor": 4
}
